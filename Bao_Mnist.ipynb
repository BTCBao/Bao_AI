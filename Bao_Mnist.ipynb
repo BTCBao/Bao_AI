{
  "nbformat": 4,
  "nbformat_minor": 0,
  "metadata": {
    "colab": {
      "name": "Bao_Mnist.ipynb",
      "provenance": [],
      "collapsed_sections": [],
      "authorship_tag": "ABX9TyP38/N+F8qOrupYoIZyeZUZ",
      "include_colab_link": true
    },
    "kernelspec": {
      "name": "python3",
      "display_name": "Python 3"
    },
    "language_info": {
      "name": "python"
    },
    "accelerator": "GPU"
  },
  "cells": [
    {
      "cell_type": "markdown",
      "metadata": {
        "id": "view-in-github",
        "colab_type": "text"
      },
      "source": [
        "<a href=\"https://colab.research.google.com/github/BaoBaoCheng/Bao_AI/blob/main/Bao_Mnist.ipynb\" target=\"_parent\"><img src=\"https://colab.research.google.com/assets/colab-badge.svg\" alt=\"Open In Colab\"/></a>"
      ]
    },
    {
      "cell_type": "code",
      "metadata": {
        "colab": {
          "base_uri": "https://localhost:8080/"
        },
        "id": "n0JqWe6WhMO8",
        "outputId": "eeead02d-569d-40fa-b39a-1c2d7962b583"
      },
      "source": [
        "!nvidia-smi"
      ],
      "execution_count": null,
      "outputs": [
        {
          "output_type": "stream",
          "text": [
            "Sun May 16 16:53:11 2021       \n",
            "+-----------------------------------------------------------------------------+\n",
            "| NVIDIA-SMI 465.19.01    Driver Version: 460.32.03    CUDA Version: 11.2     |\n",
            "|-------------------------------+----------------------+----------------------+\n",
            "| GPU  Name        Persistence-M| Bus-Id        Disp.A | Volatile Uncorr. ECC |\n",
            "| Fan  Temp  Perf  Pwr:Usage/Cap|         Memory-Usage | GPU-Util  Compute M. |\n",
            "|                               |                      |               MIG M. |\n",
            "|===============================+======================+======================|\n",
            "|   0  Tesla K80           Off  | 00000000:00:04.0 Off |                    0 |\n",
            "| N/A   48C    P8    60W / 149W |      0MiB / 11441MiB |      0%      Default |\n",
            "|                               |                      |                  N/A |\n",
            "+-------------------------------+----------------------+----------------------+\n",
            "                                                                               \n",
            "+-----------------------------------------------------------------------------+\n",
            "| Processes:                                                                  |\n",
            "|  GPU   GI   CI        PID   Type   Process name                  GPU Memory |\n",
            "|        ID   ID                                                   Usage      |\n",
            "|=============================================================================|\n",
            "|  No running processes found                                                 |\n",
            "+-----------------------------------------------------------------------------+\n"
          ],
          "name": "stdout"
        }
      ]
    },
    {
      "cell_type": "code",
      "metadata": {
        "id": "6FlrO_EIheBf"
      },
      "source": [
        "import tensorflow as tf\n",
        "gpus = tf.config.experimental.list_physical_devices(device_type='GPU')\n",
        "for gpu in gpus:\n",
        "  tf.config.experimental.set_memory_growth(gpu, True)\n",
        "import numpy as np\n",
        "# 取消科學記號顯示方式\n",
        "np.set_printoptions(suppress=True)\n",
        "import matplotlib.pyplot as plt"
      ],
      "execution_count": null,
      "outputs": []
    },
    {
      "cell_type": "code",
      "metadata": {
        "colab": {
          "base_uri": "https://localhost:8080/"
        },
        "id": "axOCxJSWhxR1",
        "outputId": "59f0bb8e-b909-4ede-e996-97fe3779e61f"
      },
      "source": [
        "#下載mnist資料集\n",
        "(x_train, y_train), (x_test, y_test) = tf.keras.datasets.mnist.load_data()\n",
        "\n",
        "print('x_train\\nshape:{},data type:{}'.format(x_train.shape, x_train.dtype))\n",
        "print('y_train\\nshape:{},data type:{}'.format(y_train.shape, y_train.dtype))\n",
        "print('x_test\\nshape:{},data type:{}'.format(x_test.shape, x_test.dtype))\n",
        "print('y_test\\nshape:{},data type:{}'.format(y_test.shape, y_test.dtype))"
      ],
      "execution_count": null,
      "outputs": [
        {
          "output_type": "stream",
          "text": [
            "x_train\n",
            "shape:(60000, 28, 28),data type:uint8\n",
            "y_train\n",
            "shape:(60000,),data type:uint8\n",
            "x_test\n",
            "shape:(10000, 28, 28),data type:uint8\n",
            "y_test\n",
            "shape:(10000,),data type:uint8\n"
          ],
          "name": "stdout"
        }
      ]
    },
    {
      "cell_type": "code",
      "metadata": {
        "colab": {
          "base_uri": "https://localhost:8080/",
          "height": 373
        },
        "id": "JfzDcoFDh4Lv",
        "outputId": "537ef428-9e00-4d2a-d270-218e3d6059d7"
      },
      "source": [
        "plt.figure(figsize=(6, 6))\n",
        "for i, (images, labels) in enumerate(zip(x_train[0:9], y_train[0:9])):\n",
        "    plt.subplot(3,3, i+1)\n",
        "    plt.imshow(images, cmap='gray')\n",
        "    plt.title('label:{}'.format(labels))\n",
        "    plt.axis('off')"
      ],
      "execution_count": null,
      "outputs": [
        {
          "output_type": "display_data",
          "data": {
            "image/png": "[encoded data removed]",
            "text/plain": [
              "<Figure size 432x432 with 9 Axes>"
            ]
          },
          "metadata": {
            "tags": [],
            "needs_background": "light"
          }
        }
      ]
    },
    {
      "cell_type": "code",
      "metadata": {
        "colab": {
          "base_uri": "https://localhost:8080/"
        },
        "id": "NCAfKNkKh_t3",
        "outputId": "ea61afdb-5e62-4964-9936-1c5e3129f444"
      },
      "source": [
        "model = tf.keras.Sequential(\n",
        "  [\n",
        "   tf.keras.Input(shape=(28, 28, 1)),\n",
        "   tf.keras.layers.Conv2D(filters=64, kernel_size=(3,3), activation='relu', padding='same'),\n",
        "   tf.keras.layers.MaxPool2D(pool_size=(2,2)),\n",
        "   tf.keras.layers.Flatten(),\n",
        "   #tf.keras.layers.Reshape((-1,32)),\n",
        "   #tf.keras.layers.LSTM(10),\n",
        "   tf.keras.layers.Dropout(0.5),\n",
        "   tf.keras.layers.Dense(10, activation='softmax')\n",
        "  ]\n",
        ")\n",
        "\n",
        "# 查看model資訊\n",
        "model.summary()"
      ],
      "execution_count": null,
      "outputs": [
        {
          "output_type": "stream",
          "text": [
            "Model: \"sequential\"\n",
            "_________________________________________________________________\n",
            "Layer (type)                 Output Shape              Param #   \n",
            "=================================================================\n",
            "conv2d (Conv2D)              (None, 28, 28, 64)        640       \n",
            "_________________________________________________________________\n",
            "max_pooling2d (MaxPooling2D) (None, 14, 14, 64)        0         \n",
            "_________________________________________________________________\n",
            "flatten (Flatten)            (None, 12544)             0         \n",
            "_________________________________________________________________\n",
            "dropout (Dropout)            (None, 12544)             0         \n",
            "_________________________________________________________________\n",
            "dense (Dense)                (None, 10)                125450    \n",
            "=================================================================\n",
            "Total params: 126,090\n",
            "Trainable params: 126,090\n",
            "Non-trainable params: 0\n",
            "_________________________________________________________________\n"
          ],
          "name": "stdout"
        }
      ]
    },
    {
      "cell_type": "code",
      "metadata": {
        "colab": {
          "base_uri": "https://localhost:8080/"
        },
        "id": "J-hkjEQnjy1n",
        "outputId": "3a052d79-82af-4fcd-d264-2c9fad8f7f07"
      },
      "source": [
        "# 轉換為float32，以及做歸一化處理\n",
        "# data\n",
        "x_train = x_train.astype('float32') / 255\n",
        "x_test = x_test.astype('float32') / 255\n",
        "# label\n",
        "y_train = y_train.astype('float32')\n",
        "y_test = y_test.astype('float32')\n",
        "# model模型input shape為(batch size, 28, 28, 1)需做修改\n",
        "x_train = np.expand_dims(x_train, -1)\n",
        "y_train = np.expand_dims(y_train, -1)\n",
        "x_test = np.expand_dims(x_test, -1)\n",
        "y_test = np.expand_dims(y_test, -1)\n",
        "\n",
        "#修改後的shape與dtype\n",
        "print('x_train\\nshape:{},data type:{}'.format(x_train.shape, x_train.dtype))\n",
        "print('y_train\\nshape:{},data type:{}'.format(y_train.shape, y_train.dtype))\n",
        "print('x_test\\nshape:{},data type:{}'.format(x_test.shape, x_test.dtype))\n",
        "print('y_test\\nshape:{},data type:{}'.format(y_test.shape, y_test.dtype))"
      ],
      "execution_count": null,
      "outputs": [
        {
          "output_type": "stream",
          "text": [
            "x_train\n",
            "shape:(60000, 28, 28, 1),data type:float32\n",
            "y_train\n",
            "shape:(60000, 1),data type:float32\n",
            "x_test\n",
            "shape:(10000, 28, 28, 1),data type:float32\n",
            "y_test\n",
            "shape:(10000, 1),data type:float32\n"
          ],
          "name": "stdout"
        }
      ]
    },
    {
      "cell_type": "code",
      "metadata": {
        "id": "4SHKsSNvkJKz"
      },
      "source": [
        "opt = tf.keras.optimizers.Adam(learning_rate=0.0001)\n",
        "loss = tf.keras.losses.SparseCategoricalCrossentropy()\n",
        "met = tf.keras.metrics.SparseCategoricalAccuracy()\n",
        "model.compile(\n",
        "  optimizer = opt,\n",
        "  loss = loss,\n",
        "  metrics = [met]\n",
        ")"
      ],
      "execution_count": null,
      "outputs": []
    },
    {
      "cell_type": "code",
      "metadata": {
        "colab": {
          "base_uri": "https://localhost:8080/"
        },
        "id": "_52uDDpykNEZ",
        "outputId": "d55de84b-ea11-4c01-a189-9265d17fb0de"
      },
      "source": [
        "history = model.fit(x_train, y_train, batch_size=128, epochs=50, validation_split=0.1)"
      ],
      "execution_count": null,
      "outputs": [
        {
          "output_type": "stream",
          "text": [
            "Epoch 1/50\n",
            "422/422 [==============================] - 6s 10ms/step - loss: 1.5821 - sparse_categorical_accuracy: 0.6315 - val_loss: 0.3750 - val_sparse_categorical_accuracy: 0.9110\n",
            "Epoch 2/50\n",
            "422/422 [==============================] - 4s 9ms/step - loss: 0.4227 - sparse_categorical_accuracy: 0.8853 - val_loss: 0.2596 - val_sparse_categorical_accuracy: 0.9292\n",
            "Epoch 3/50\n",
            "422/422 [==============================] - 4s 9ms/step - loss: 0.3229 - sparse_categorical_accuracy: 0.9087 - val_loss: 0.2207 - val_sparse_categorical_accuracy: 0.9400\n",
            "Epoch 4/50\n",
            "422/422 [==============================] - 4s 9ms/step - loss: 0.2800 - sparse_categorical_accuracy: 0.9198 - val_loss: 0.1965 - val_sparse_categorical_accuracy: 0.9473\n",
            "Epoch 5/50\n",
            "422/422 [==============================] - 4s 9ms/step - loss: 0.2549 - sparse_categorical_accuracy: 0.9262 - val_loss: 0.1760 - val_sparse_categorical_accuracy: 0.9532\n",
            "Epoch 6/50\n",
            "422/422 [==============================] - 4s 9ms/step - loss: 0.2288 - sparse_categorical_accuracy: 0.9351 - val_loss: 0.1598 - val_sparse_categorical_accuracy: 0.9580\n",
            "Epoch 7/50\n",
            "422/422 [==============================] - 4s 9ms/step - loss: 0.2028 - sparse_categorical_accuracy: 0.9400 - val_loss: 0.1460 - val_sparse_categorical_accuracy: 0.9613\n",
            "Epoch 8/50\n",
            "422/422 [==============================] - 4s 9ms/step - loss: 0.1958 - sparse_categorical_accuracy: 0.9436 - val_loss: 0.1341 - val_sparse_categorical_accuracy: 0.9648\n",
            "Epoch 9/50\n",
            "422/422 [==============================] - 4s 9ms/step - loss: 0.1786 - sparse_categorical_accuracy: 0.9479 - val_loss: 0.1246 - val_sparse_categorical_accuracy: 0.9682\n",
            "Epoch 10/50\n",
            "422/422 [==============================] - 4s 9ms/step - loss: 0.1631 - sparse_categorical_accuracy: 0.9540 - val_loss: 0.1156 - val_sparse_categorical_accuracy: 0.9710\n",
            "Epoch 11/50\n",
            "422/422 [==============================] - 4s 9ms/step - loss: 0.1546 - sparse_categorical_accuracy: 0.9563 - val_loss: 0.1093 - val_sparse_categorical_accuracy: 0.9737\n",
            "Epoch 12/50\n",
            "422/422 [==============================] - 4s 9ms/step - loss: 0.1421 - sparse_categorical_accuracy: 0.9599 - val_loss: 0.1050 - val_sparse_categorical_accuracy: 0.9743\n",
            "Epoch 13/50\n",
            "422/422 [==============================] - 4s 9ms/step - loss: 0.1361 - sparse_categorical_accuracy: 0.9607 - val_loss: 0.0982 - val_sparse_categorical_accuracy: 0.9767\n",
            "Epoch 14/50\n",
            "422/422 [==============================] - 4s 9ms/step - loss: 0.1276 - sparse_categorical_accuracy: 0.9643 - val_loss: 0.0927 - val_sparse_categorical_accuracy: 0.9770\n",
            "Epoch 15/50\n",
            "422/422 [==============================] - 4s 9ms/step - loss: 0.1225 - sparse_categorical_accuracy: 0.9663 - val_loss: 0.0885 - val_sparse_categorical_accuracy: 0.9790\n",
            "Epoch 16/50\n",
            "422/422 [==============================] - 4s 9ms/step - loss: 0.1188 - sparse_categorical_accuracy: 0.9659 - val_loss: 0.0856 - val_sparse_categorical_accuracy: 0.9790\n",
            "Epoch 17/50\n",
            "422/422 [==============================] - 4s 9ms/step - loss: 0.1147 - sparse_categorical_accuracy: 0.9677 - val_loss: 0.0824 - val_sparse_categorical_accuracy: 0.9798\n",
            "Epoch 18/50\n",
            "422/422 [==============================] - 4s 9ms/step - loss: 0.1105 - sparse_categorical_accuracy: 0.9676 - val_loss: 0.0799 - val_sparse_categorical_accuracy: 0.9803\n",
            "Epoch 19/50\n",
            "422/422 [==============================] - 4s 9ms/step - loss: 0.1070 - sparse_categorical_accuracy: 0.9698 - val_loss: 0.0775 - val_sparse_categorical_accuracy: 0.9808\n",
            "Epoch 20/50\n",
            "422/422 [==============================] - 4s 9ms/step - loss: 0.0981 - sparse_categorical_accuracy: 0.9721 - val_loss: 0.0760 - val_sparse_categorical_accuracy: 0.9812\n",
            "Epoch 21/50\n",
            "422/422 [==============================] - 4s 9ms/step - loss: 0.0988 - sparse_categorical_accuracy: 0.9716 - val_loss: 0.0730 - val_sparse_categorical_accuracy: 0.9818\n",
            "Epoch 22/50\n",
            "422/422 [==============================] - 4s 9ms/step - loss: 0.0995 - sparse_categorical_accuracy: 0.9711 - val_loss: 0.0726 - val_sparse_categorical_accuracy: 0.9812\n",
            "Epoch 23/50\n",
            "422/422 [==============================] - 4s 9ms/step - loss: 0.0971 - sparse_categorical_accuracy: 0.9715 - val_loss: 0.0705 - val_sparse_categorical_accuracy: 0.9830\n",
            "Epoch 24/50\n",
            "422/422 [==============================] - 4s 9ms/step - loss: 0.0929 - sparse_categorical_accuracy: 0.9737 - val_loss: 0.0685 - val_sparse_categorical_accuracy: 0.9828\n",
            "Epoch 25/50\n",
            "422/422 [==============================] - 4s 9ms/step - loss: 0.0928 - sparse_categorical_accuracy: 0.9734 - val_loss: 0.0691 - val_sparse_categorical_accuracy: 0.9822\n",
            "Epoch 26/50\n",
            "422/422 [==============================] - 4s 9ms/step - loss: 0.0921 - sparse_categorical_accuracy: 0.9730 - val_loss: 0.0661 - val_sparse_categorical_accuracy: 0.9835\n",
            "Epoch 27/50\n",
            "422/422 [==============================] - 4s 9ms/step - loss: 0.0842 - sparse_categorical_accuracy: 0.9766 - val_loss: 0.0665 - val_sparse_categorical_accuracy: 0.9820\n",
            "Epoch 28/50\n",
            "422/422 [==============================] - 4s 9ms/step - loss: 0.0840 - sparse_categorical_accuracy: 0.9757 - val_loss: 0.0653 - val_sparse_categorical_accuracy: 0.9847\n",
            "Epoch 29/50\n",
            "422/422 [==============================] - 4s 9ms/step - loss: 0.0824 - sparse_categorical_accuracy: 0.9769 - val_loss: 0.0628 - val_sparse_categorical_accuracy: 0.9838\n",
            "Epoch 30/50\n",
            "422/422 [==============================] - 4s 9ms/step - loss: 0.0802 - sparse_categorical_accuracy: 0.9767 - val_loss: 0.0625 - val_sparse_categorical_accuracy: 0.9842\n",
            "Epoch 31/50\n",
            "422/422 [==============================] - 4s 9ms/step - loss: 0.0779 - sparse_categorical_accuracy: 0.9778 - val_loss: 0.0618 - val_sparse_categorical_accuracy: 0.9838\n",
            "Epoch 32/50\n",
            "422/422 [==============================] - 4s 9ms/step - loss: 0.0795 - sparse_categorical_accuracy: 0.9763 - val_loss: 0.0617 - val_sparse_categorical_accuracy: 0.9845\n",
            "Epoch 33/50\n",
            "422/422 [==============================] - 4s 9ms/step - loss: 0.0781 - sparse_categorical_accuracy: 0.9775 - val_loss: 0.0602 - val_sparse_categorical_accuracy: 0.9845\n",
            "Epoch 34/50\n",
            "422/422 [==============================] - 4s 9ms/step - loss: 0.0772 - sparse_categorical_accuracy: 0.9776 - val_loss: 0.0608 - val_sparse_categorical_accuracy: 0.9840\n",
            "Epoch 35/50\n",
            "422/422 [==============================] - 4s 9ms/step - loss: 0.0751 - sparse_categorical_accuracy: 0.9784 - val_loss: 0.0598 - val_sparse_categorical_accuracy: 0.9850\n",
            "Epoch 36/50\n",
            "422/422 [==============================] - 4s 9ms/step - loss: 0.0734 - sparse_categorical_accuracy: 0.9786 - val_loss: 0.0586 - val_sparse_categorical_accuracy: 0.9843\n",
            "Epoch 37/50\n",
            "422/422 [==============================] - 4s 9ms/step - loss: 0.0752 - sparse_categorical_accuracy: 0.9768 - val_loss: 0.0582 - val_sparse_categorical_accuracy: 0.9852\n",
            "Epoch 38/50\n",
            "422/422 [==============================] - 4s 9ms/step - loss: 0.0713 - sparse_categorical_accuracy: 0.9793 - val_loss: 0.0585 - val_sparse_categorical_accuracy: 0.9850\n",
            "Epoch 39/50\n",
            "422/422 [==============================] - 4s 9ms/step - loss: 0.0719 - sparse_categorical_accuracy: 0.9787 - val_loss: 0.0572 - val_sparse_categorical_accuracy: 0.9858\n",
            "Epoch 40/50\n",
            "422/422 [==============================] - 4s 9ms/step - loss: 0.0703 - sparse_categorical_accuracy: 0.9787 - val_loss: 0.0570 - val_sparse_categorical_accuracy: 0.9855\n",
            "Epoch 41/50\n",
            "422/422 [==============================] - 4s 9ms/step - loss: 0.0671 - sparse_categorical_accuracy: 0.9798 - val_loss: 0.0574 - val_sparse_categorical_accuracy: 0.9850\n",
            "Epoch 42/50\n",
            "422/422 [==============================] - 4s 9ms/step - loss: 0.0678 - sparse_categorical_accuracy: 0.9800 - val_loss: 0.0566 - val_sparse_categorical_accuracy: 0.9852\n",
            "Epoch 43/50\n",
            "422/422 [==============================] - 4s 9ms/step - loss: 0.0690 - sparse_categorical_accuracy: 0.9789 - val_loss: 0.0557 - val_sparse_categorical_accuracy: 0.9862\n",
            "Epoch 44/50\n",
            "422/422 [==============================] - 4s 9ms/step - loss: 0.0640 - sparse_categorical_accuracy: 0.9808 - val_loss: 0.0554 - val_sparse_categorical_accuracy: 0.9863\n",
            "Epoch 45/50\n",
            "422/422 [==============================] - 4s 9ms/step - loss: 0.0637 - sparse_categorical_accuracy: 0.9807 - val_loss: 0.0561 - val_sparse_categorical_accuracy: 0.9855\n",
            "Epoch 46/50\n",
            "422/422 [==============================] - 4s 9ms/step - loss: 0.0651 - sparse_categorical_accuracy: 0.9795 - val_loss: 0.0556 - val_sparse_categorical_accuracy: 0.9855\n",
            "Epoch 47/50\n",
            "422/422 [==============================] - 4s 9ms/step - loss: 0.0652 - sparse_categorical_accuracy: 0.9798 - val_loss: 0.0546 - val_sparse_categorical_accuracy: 0.9860\n",
            "Epoch 48/50\n",
            "422/422 [==============================] - 4s 9ms/step - loss: 0.0633 - sparse_categorical_accuracy: 0.9813 - val_loss: 0.0554 - val_sparse_categorical_accuracy: 0.9860\n",
            "Epoch 49/50\n",
            "422/422 [==============================] - 4s 9ms/step - loss: 0.0625 - sparse_categorical_accuracy: 0.9808 - val_loss: 0.0538 - val_sparse_categorical_accuracy: 0.9863\n",
            "Epoch 50/50\n",
            "422/422 [==============================] - 4s 9ms/step - loss: 0.0609 - sparse_categorical_accuracy: 0.9815 - val_loss: 0.0540 - val_sparse_categorical_accuracy: 0.9868\n"
          ],
          "name": "stdout"
        }
      ]
    },
    {
      "cell_type": "code",
      "metadata": {
        "colab": {
          "base_uri": "https://localhost:8080/",
          "height": 808
        },
        "id": "8Y5bp2c-kUq9",
        "outputId": "050826cf-2b10-46de-a427-9c74ff6a773d"
      },
      "source": [
        "plt.figure(figsize=(6, 6))\n",
        "# drow loss log\n",
        "plt.plot(history.history['loss'])\n",
        "plt.plot(history.history['val_loss'])\n",
        "plt.title('Model loss')\n",
        "plt.ylabel('Loss')\n",
        "plt.xlabel('Epoch')\n",
        "plt.legend(['Train', 'Val'], loc='upper right')\n",
        "\n",
        "plt.figure(figsize=(6, 6))\n",
        "# drow acc log\n",
        "plt.plot(history.history['sparse_categorical_accuracy'])\n",
        "plt.plot(history.history['val_sparse_categorical_accuracy'])\n",
        "plt.title('Model accuracy')\n",
        "plt.ylabel('Accuracy')\n",
        "plt.xlabel('Epoch')\n",
        "plt.legend(['Train', 'Val'], loc='lower right')"
      ],
      "execution_count": null,
      "outputs": [
        {
          "output_type": "execute_result",
          "data": {
            "text/plain": [
              "<matplotlib.legend.Legend at 0x7fcb14cdec90>"
            ]
          },
          "metadata": {
            "tags": []
          },
          "execution_count": 9
        },
        {
          "output_type": "display_data",
          "data": {
            "image/png": "[encoded data removed]",
            "text/plain": [
              "<Figure size 432x432 with 1 Axes>"
            ]
          },
          "metadata": {
            "tags": [],
            "needs_background": "light"
          }
        },
        {
          "output_type": "display_data",
          "data": {
            "image/png": "[encoded data removed]",
            "text/plain": [
              "<Figure size 432x432 with 1 Axes>"
            ]
          },
          "metadata": {
            "tags": [],
            "needs_background": "light"
          }
        }
      ]
    },
    {
      "cell_type": "code",
      "metadata": {
        "colab": {
          "base_uri": "https://localhost:8080/"
        },
        "id": "Tteoxfe8kVeD",
        "outputId": "8b0aaf01-0da6-42a2-bc4a-e367f6c4f4a0"
      },
      "source": [
        "history.history['sparse_categorical_accuracy']"
      ],
      "execution_count": null,
      "outputs": [
        {
          "output_type": "execute_result",
          "data": {
            "text/plain": [
              "[0.7753518223762512,\n",
              " 0.8927407264709473,\n",
              " 0.910703718662262,\n",
              " 0.9210740923881531,\n",
              " 0.9285926222801208,\n",
              " 0.9360926151275635,\n",
              " 0.9401666522026062,\n",
              " 0.9465555548667908,\n",
              " 0.9507407546043396,\n",
              " 0.9546296000480652,\n",
              " 0.9570370316505432,\n",
              " 0.9594259262084961,\n",
              " 0.9621666669845581,\n",
              " 0.9635370373725891,\n",
              " 0.9656296372413635,\n",
              " 0.9666110873222351,\n",
              " 0.9675185084342957,\n",
              " 0.968666672706604,\n",
              " 0.9698333144187927,\n",
              " 0.9711111187934875,\n",
              " 0.9713147878646851,\n",
              " 0.9719629883766174,\n",
              " 0.9724629521369934,\n",
              " 0.9734814763069153,\n",
              " 0.974407434463501,\n",
              " 0.9740555286407471,\n",
              " 0.9756481647491455,\n",
              " 0.9755740761756897,\n",
              " 0.9758148193359375,\n",
              " 0.9758333563804626,\n",
              " 0.9765926003456116,\n",
              " 0.9768518805503845,\n",
              " 0.9775555729866028,\n",
              " 0.9770925641059875,\n",
              " 0.9775925874710083,\n",
              " 0.9783703684806824,\n",
              " 0.9780740737915039,\n",
              " 0.9789259433746338,\n",
              " 0.9787222146987915,\n",
              " 0.9795555472373962,\n",
              " 0.9795555472373962,\n",
              " 0.9793333411216736,\n",
              " 0.9796851873397827,\n",
              " 0.980222225189209,\n",
              " 0.980222225189209,\n",
              " 0.9803147912025452,\n",
              " 0.9798333048820496,\n",
              " 0.9804259538650513,\n",
              " 0.9811111092567444,\n",
              " 0.9810185432434082]"
            ]
          },
          "metadata": {
            "tags": []
          },
          "execution_count": 10
        }
      ]
    },
    {
      "cell_type": "code",
      "metadata": {
        "colab": {
          "base_uri": "https://localhost:8080/"
        },
        "id": "NGBVI4xjka6Y",
        "outputId": "ddb73eec-7506-4c47-894d-7eedc93ec278"
      },
      "source": [
        "score = model.evaluate(x_test, y_test)\n",
        "print('test loss:', score[0])\n",
        "print('test accuracy', score[1])"
      ],
      "execution_count": null,
      "outputs": [
        {
          "output_type": "stream",
          "text": [
            "313/313 [==============================] - 1s 3ms/step - loss: 0.0560 - sparse_categorical_accuracy: 0.9825\n",
            "test loss: 0.055952996015548706\n",
            "test accuracy 0.9825000166893005\n"
          ],
          "name": "stdout"
        }
      ]
    },
    {
      "cell_type": "code",
      "metadata": {
        "colab": {
          "base_uri": "https://localhost:8080/"
        },
        "id": "p6yVCUcPkf2d",
        "outputId": "6d4c17ba-10dc-4861-acad-7250cf49ec89"
      },
      "source": [
        "result = model.predict(x_test[0:5])\n",
        "print(result)\n",
        "print('前5筆預測結果:\\n',np.argmax(result, axis=-1))\n",
        "print('前5筆實際值:\\n', y_test[0:5].reshape(-1,).astype('int32'))"
      ],
      "execution_count": null,
      "outputs": [
        {
          "output_type": "stream",
          "text": [
            "[[0.         0.         0.00000042 0.00005456 0.         0.00000008\n",
            "  0.         0.99993837 0.00000023 0.00000629]\n",
            " [0.00000048 0.0000232  0.99995697 0.00000009 0.         0.00000033\n",
            "  0.0000186  0.         0.0000002  0.        ]\n",
            " [0.00002988 0.9991636  0.00022846 0.0000036  0.00029442 0.00000234\n",
            "  0.0000404  0.00010865 0.00012694 0.00000169]\n",
            " [0.9998864  0.00000001 0.00002825 0.00000014 0.0000002  0.00000129\n",
            "  0.00007185 0.0000068  0.00000239 0.00000269]\n",
            " [0.00000071 0.00000021 0.00000089 0.00000071 0.9998171  0.00000001\n",
            "  0.00000074 0.00001709 0.00000182 0.0001607 ]]\n",
            "前5筆預測結果:\n",
            " [7 2 1 0 4]\n",
            "前5筆實際值:\n",
            " [7 2 1 0 4]\n"
          ],
          "name": "stdout"
        }
      ]
    }
  ]
}